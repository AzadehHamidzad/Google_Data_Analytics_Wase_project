{
 "cells": [
  {
   "cell_type": "markdown",
   "id": "096c51c5-24d9-4f14-8d07-815e4811b829",
   "metadata": {},
   "source": [
    "# **Waze Project**\n",
    "The Power of Statistics**"
   ]
  },
  {
   "cell_type": "markdown",
   "id": "83fdb91a-4f7f-49f0-9ea9-e0eec34d4f72",
   "metadata": {},
   "source": [
    "# **Data exploration and hypothesis testing**\n",
    "\n",
    "In this activity, you will explore the data provided and conduct a hypothesis test.\n",
    "<br/>\n",
    "\n",
    "**The purpose** of this project is to demostrate knowledge of how to conduct a two-sample hypothesis test.\n",
    "\n",
    "**The goal** is to apply descriptive statistics and hypothesis testing in Python.\n",
    "<br/>\n",
    "\n",
    "*This activity has three parts:*\n",
    "\n",
    "**Part 1:** Imports and data loading\n",
    "* What data packages will be necessary for hypothesis testing?\n",
    "\n",
    "**Part 2:** Conduct hypothesis testing\n",
    "* How did computing descriptive statistics help you analyze your data?\n",
    "\n",
    "* How did you formulate your null hypothesis and alternative hypothesis?\n",
    "\n",
    "**Part 3:** Communicate insights with stakeholders\n",
    "\n",
    "* What key business insight(s) emerged from your hypothesis test?\n",
    "\n",
    "* What business recommendations do you propose based on your results?\n",
    "\n",
    "<br/>"
   ]
  },
  {
   "cell_type": "markdown",
   "id": "bacc9855-c2d4-4f6d-b9d6-e61fe6592adb",
   "metadata": {},
   "source": [
    "# **PACE stages**"
   ]
  },
  {
   "cell_type": "markdown",
   "id": "4e150f6a-beb4-4c7b-94c7-d6c9e8d9fc76",
   "metadata": {},
   "source": [
    "Throughout these project notebooks, you'll see references to the problem-solving framework PACE. The following notebook components are labeled with the respective PACE stage: Plan, Analyze, Construct, and Execute."
   ]
  },
  {
   "cell_type": "markdown",
   "id": "4c656cc5-2ce3-4fa8-991c-41b83f867f00",
   "metadata": {},
   "source": [
    "## **PACE: Plan**\n",
    "\n",
    "Consider the questions in your PACE Strategy Document and those below to craft your response:\n",
    "1. What is your research question for this data project? Later on, you will need to formulate the null and alternative hypotheses as the first step of your hypothesis test. Consider your research question now, at the start of this task.\n"
   ]
  },
  {
   "cell_type": "markdown",
   "id": "e491f2ff-eea0-4351-be6e-a2c37d7c4176",
   "metadata": {},
   "source": [
    "**Research question:**\n",
    "\n",
    "\"Do drivers who open the application using an iPhone have the same number of drives on average as drivers who use Android devices?\""
   ]
  },
  {
   "cell_type": "markdown",
   "id": "48801581-4fbc-45bf-9e5b-8dcd5ce83195",
   "metadata": {},
   "source": [
    "### **Step 1. Imports and data loading**"
   ]
  },
  {
   "cell_type": "markdown",
   "id": "0850fffa-4bcc-475f-b048-8194d7709770",
   "metadata": {},
   "source": [
    "Import packages and libraries needed to compute descriptive statistics and conduct a hypothesis test.`"
   ]
  },
  {
   "cell_type": "code",
   "execution_count": 14,
   "id": "fd14b2af-016a-463f-96a7-93c6d880793b",
   "metadata": {},
   "outputs": [],
   "source": [
    "# Import any relevant packages or libraries\n",
    "import pandas as pd\n",
    "from scipy import stats"
   ]
  },
  {
   "cell_type": "markdown",
   "id": "ca2f274f-e0cb-44b4-b5eb-1d22ec7a9d49",
   "metadata": {},
   "source": [
    "Import rhe dataset."
   ]
  },
  {
   "cell_type": "code",
   "execution_count": 17,
   "id": "c61294fd-eb1b-4853-9c98-c1bef685aefa",
   "metadata": {},
   "outputs": [],
   "source": [
    "# Load dataset into dataframe\n",
    "df = pd.read_csv('waze_dataset.csv')"
   ]
  },
  {
   "cell_type": "markdown",
   "id": "89ed14ff-f5a6-4541-a4a9-64058dd609f7",
   "metadata": {},
   "source": [
    "## **PACE: Analyze and Construct**\n",
    "\n",
    "Consider the questions in your PACE Strategy Document and those below to craft your response:\n",
    "1. Data professionals use descriptive statistics for exploratory data analysis (EDA). How can computing descriptive statistics help you learn more about your data in this stage of your analysis?\n"
   ]
  },
  {
   "cell_type": "markdown",
   "id": "74cbd78e-fab6-419b-8148-331731e4d04c",
   "metadata": {},
   "source": [
    "**Answer:**\n",
    "\n",
    "In general, descriptive statistics are useful because they let you quickly explore and understand large amounts of data. In this case, computing descriptive statistics helps you quickly compare the average amount of drives by device type.\n"
   ]
  },
  {
   "cell_type": "markdown",
   "id": "a531f0f2-f035-4500-9eeb-2ffe9c85227d",
   "metadata": {},
   "source": [
    "### **Step 2. Data exploration**\n",
    "\n",
    "Use descriptive statistics to conduct exploratory eata analysis (EDA).\n"
   ]
  },
  {
   "cell_type": "markdown",
   "id": "33b84601-f701-4ab7-b91a-8ebb32a314c2",
   "metadata": {},
   "source": [
    "**Note:** In the dataset, `device` is a categorical variable with the labels `iPhone` and `Android`.\n",
    "\n",
    "In order to perform this analysis, you must turn each label into an integer.  The following code assigns a `1` for an `iPhone` user and a `2` for `Android`.  It assigns this label back to the variable `device_type`.\n",
    "\n",
    "**Note:** Creating a new variable is ideal so that you don't overwrite original data.\n"
   ]
  },
  {
   "cell_type": "code",
   "execution_count": 27,
   "id": "86aaef6c-25b9-4c1c-9b09-93711ed95ca8",
   "metadata": {},
   "outputs": [
    {
     "data": {
      "text/plain": [
       "0    2\n",
       "1    1\n",
       "2    2\n",
       "3    1\n",
       "4    2\n",
       "Name: device_type, dtype: int64"
      ]
     },
     "execution_count": 27,
     "metadata": {},
     "output_type": "execute_result"
    }
   ],
   "source": [
    "# 1. Create `map_dictionary`\n",
    "map_dictionary = {'Android': 2, 'iPhone': 1}\n",
    "\n",
    "# 2. Create new `device_type` column\n",
    "df['device_type'] = df['device']\n",
    "\n",
    "# 3. Map the new column to the dictionary\n",
    "df['device_type'] = df['device_type'].map(map_dictionary)\n",
    "\n",
    "df['device_type'].head()"
   ]
  },
  {
   "cell_type": "markdown",
   "id": "ba36ec10-c9e8-4fd8-a981-51ae57897419",
   "metadata": {},
   "source": [
    "You are interested in the relationship between device type and the number of drives. One approach is to look at the average number of drives for each device type. Calculate these averages."
   ]
  },
  {
   "cell_type": "code",
   "execution_count": 30,
   "id": "fe339f8a-bd45-4c45-984c-7dd039a489b5",
   "metadata": {},
   "outputs": [
    {
     "data": {
      "text/plain": [
       "device_type\n",
       "1    67.859078\n",
       "2    66.231838\n",
       "Name: drives, dtype: float64"
      ]
     },
     "execution_count": 30,
     "metadata": {},
     "output_type": "execute_result"
    }
   ],
   "source": [
    "df.groupby('device_type')['drives'].mean()"
   ]
  },
  {
   "cell_type": "markdown",
   "id": "a68afa8a-130d-42f1-a12d-df8c8820e07e",
   "metadata": {},
   "source": [
    "Based on the averages shown, it appears that drivers who use an iPhone device to interact with the application have a higher number of drives on average. However, this difference might arise from random sampling, rather than being a true difference in the number of drives. To assess whether the difference is statistically significant, you can conduct a hypothesis test."
   ]
  },
  {
   "cell_type": "markdown",
   "id": "70d2c038-a19e-428e-9b50-b150f2029a7a",
   "metadata": {},
   "source": [
    "### **Step 3. Hypothesis testing**"
   ]
  },
  {
   "cell_type": "markdown",
   "id": "078d5f81-4510-4fc5-a5dc-f8f02f428e3c",
   "metadata": {},
   "source": [
    "Your goal is to conduct a two-sample t-test. Recall the steps for conducting a hypothesis test:\n",
    "\n",
    "\n",
    "1.   State the null hypothesis and the alternative hypothesis\n",
    "2.   Choose a signficance level\n",
    "3.   Find the p-value\n",
    "4.   Reject or fail to reject the null hypothesis\n",
    "\n",
    "**Note:** This is a t-test for two independent samples. This is the appropriate test since the two groups are independent (Android users vs. iPhone users)."
   ]
  },
  {
   "cell_type": "markdown",
   "id": "0fa7f6e8-58a4-4bf7-bbcd-31828d81eafe",
   "metadata": {},
   "source": [
    "Recall the difference between the null hypothesis ($H_0$) and the alternative hypothesis ($H_A$).\n",
    "\n",
    "**Question:** What are your hypotheses for this data project?"
   ]
  },
  {
   "cell_type": "markdown",
   "id": "30caa847-42d7-402d-9ddc-c22a0ec939f4",
   "metadata": {},
   "source": [
    "**Hypotheses:**\n",
    "\n",
    "$H_0$: There is no difference in average number of drives between drivers who use iPhone devices and drivers who use Androids.\n",
    "\n",
    "$H_A$: There is a difference in average number of drives between drivers who use iPhone devices and drivers who use Androids."
   ]
  },
  {
   "cell_type": "markdown",
   "id": "6e03acd9-8e9a-4156-95b9-2ccb49962dcc",
   "metadata": {},
   "source": [
    "Next, choose 5% as the significance level and proceed with a two-sample t-test.\n",
    "\n",
    "You can use the `stats.ttest_ind()` function to perform the test.\n",
    "\n",
    "\n",
    "**Technical note**: The default for the argument `equal_var` in `stats.ttest_ind()` is `True`, which assumes population variances are equal. This equal variance assumption might not hold in practice (that is, there is no strong reason to assume that the two groups have the same variance); you can relax this assumption by setting `equal_var` to `False`, and `stats.ttest_ind()` will perform the unequal variances $t$-test (known as Welch's `t`-test). Refer to the [scipy t-test documentation](https://docs.scipy.org/doc/scipy/reference/generated/scipy.stats.ttest_ind.html) for more information.\n",
    "\n",
    "\n",
    "1. Isolate the `drives` column for iPhone users.\n",
    "2. Isolate the `drives` column for Android users.\n",
    "3. Perform the t-test"
   ]
  },
  {
   "cell_type": "code",
   "execution_count": 38,
   "id": "6a3f9cd2-4153-4458-b314-c1bce69b8969",
   "metadata": {},
   "outputs": [
    {
     "data": {
      "text/plain": [
       "Ttest_indResult(statistic=1.463523206885235, pvalue=0.143351972680206)"
      ]
     },
     "execution_count": 38,
     "metadata": {},
     "output_type": "execute_result"
    }
   ],
   "source": [
    "# 1. Isolate the `drives` column for iPhone users.\n",
    "iPhone = df[df['device_type'] == 1]['drives']\n",
    "\n",
    "# 2. Isolate the `drives` column for Android users.\n",
    "Android = df[df['device_type'] == 2]['drives']\n",
    "\n",
    "# 3. Perform the t-test\n",
    "stats.ttest_ind(a=iPhone, b=Android, equal_var=False)"
   ]
  },
  {
   "cell_type": "markdown",
   "id": "cd4e48f2-84ca-4396-a7b5-63df59bf885f",
   "metadata": {},
   "source": [
    "**Question:** Based on the p-value you got above, do you reject or fail to reject the null hypothesis?\n",
    "\n",
    "> *Since the p-value is larger than the chosen significance level (5%), you fail to reject the null hypothesis. You conclude that there is **not** a statistically significant difference in the average number of drives between drivers who use iPhones and drivers who use Androids.*"
   ]
  },
  {
   "cell_type": "markdown",
   "id": "07f0d921-1da1-4ced-a0a5-6434b66dbd30",
   "metadata": {},
   "source": [
    "## **PACE: Execute**\n",
    "\n",
    "Consider the questions in your PACE Strategy Document to reflect on the Execute stage."
   ]
  },
  {
   "cell_type": "markdown",
   "id": "259d18e5-aac8-45d6-b200-76149e8f1163",
   "metadata": {},
   "source": [
    "Now that you've completed your hypothesis test, the next step is to share your findings with the Waze leadership team. Consider the following question as you prepare to write your executive summary:\n",
    "\n",
    "* What business insight(s) can you draw from the result of your hypothesis test?\n",
    "\n",
    "> *The key business insight is that drivers who use iPhone devices on average have a similar number of drives as those who use Androids.*\n",
    "\n",
    "> *One potential next step is to explore what other factors influence the variation in the number of drives, and run additonal hypothesis tests to learn more about user behavior. Further, temporary changes in marketing or user interface for the Waze app may provide more data to investigate churn.*"
   ]
  },
  {
   "cell_type": "code",
   "execution_count": null,
   "id": "2c6896a7-84dc-4394-a162-de16f0f94a12",
   "metadata": {},
   "outputs": [],
   "source": []
  }
 ],
 "metadata": {
  "kernelspec": {
   "display_name": "Python [conda env:base] *",
   "language": "python",
   "name": "conda-base-py"
  },
  "language_info": {
   "codemirror_mode": {
    "name": "ipython",
    "version": 3
   },
   "file_extension": ".py",
   "mimetype": "text/x-python",
   "name": "python",
   "nbconvert_exporter": "python",
   "pygments_lexer": "ipython3",
   "version": "3.10.9"
  }
 },
 "nbformat": 4,
 "nbformat_minor": 5
}
